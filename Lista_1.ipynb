{
  "nbformat": 4,
  "nbformat_minor": 0,
  "metadata": {
    "colab": {
      "provenance": [],
      "include_colab_link": true
    },
    "kernelspec": {
      "name": "python3",
      "display_name": "Python 3"
    },
    "language_info": {
      "name": "python"
    }
  },
  "cells": [
    {
      "cell_type": "markdown",
      "metadata": {
        "id": "view-in-github",
        "colab_type": "text"
      },
      "source": [
        "<a href=\"https://colab.research.google.com/github/Diego-CB/Lista_1/blob/main/Lista_1.ipynb\" target=\"_parent\"><img src=\"https://colab.research.google.com/assets/colab-badge.svg\" alt=\"Open In Colab\"/></a>"
      ]
    },
    {
      "cell_type": "markdown",
      "source": [
        "# Laboratorio No.1\n",
        "- Diego Cordova 20212\n",
        "- Paola de León 20361\n",
        "- Gabriela Contreras 20213"
      ],
      "metadata": {
        "id": "UOHeF0-pzbcf"
      }
    },
    {
      "cell_type": "markdown",
      "source": [
        "### EJERCICIO NO.1"
      ],
      "metadata": {
        "id": "Bo9MXC5RXqP7"
      }
    },
    {
      "cell_type": "markdown",
      "source": [
        "**OpenCV**\n",
        "- *Lectura de imagenes*\n",
        "```\n",
        "<!-- args: image file -->\n",
        "image = cv2.imread(\"image_path.jpg\")\n",
        "```\n",
        "\n",
        "- *Convertir img a array*\n",
        "  - Abrir la imagen con cv2.imred retorna la imagen en un array de Numpy, cada valor del array corresponde a un pixel de la imagen.\n",
        "\n",
        "- *Convertir de array a img*\n",
        "```\n",
        "bgr_img = cv2.cvtColor(array_imagen, cv2.COLOR_BGR2RGB)\n",
        "```\n",
        "\n",
        "- *Guardar imagenes a disco duro*\n",
        "```\n",
        " <!-- args: img , file path  -->\n",
        " cv2.imwrite(file_path, img)\n",
        "```\n",
        "\n",
        "- *Almacenamiento de imagenes en memoria*\n",
        "  -  las imágenes son matrices NumPy multidimensionales\n",
        "\n",
        "\n",
        "\n",
        "**PIL**\n",
        "- *Lectura de imagenes*\n",
        "```\n",
        "<!-- args: image path -->\n",
        "image = Image.open(\"image.jpg\")\n",
        "```\n",
        "\n",
        "- *Convertir img a array*\n",
        "```\n",
        "<!-- args: image file -->\n",
        "numpy_array = np.array(img)\n",
        "```\n",
        "\n",
        "- *Convertir de array a img*\n",
        "```\n",
        "<!-- args: numpy_array -->\n",
        "m = Image.fromarray(array)\n",
        "```\n",
        "\n",
        "- Almacenamiento de imagenes en memoria\n",
        "  - las imagenes se pueden convertir a un Numpy array decuardo a las necesides del usuario\n",
        "\n",
        "- *Guardar imagenes a disco duro*\n",
        "```\n",
        "<!-- args: Nombre y formato de salida -->\n",
        " new_image.save(\"image_1.jpg\")\n",
        "```\n",
        "\n",
        "\n",
        "\n",
        "\n",
        "\n",
        "\n",
        "**Matplotlib**\n",
        "- *Guardar imagenes a disco duro*\n",
        "```\n",
        "<!-- args: Nombre y formato de salida -->\n",
        "plt.savefig(\"output.jpg\")\n",
        "```\n",
        "\n"
      ],
      "metadata": {
        "id": "X39bb3rvzx82"
      }
    },
    {
      "cell_type": "markdown",
      "source": [
        "## Ejercicio No. 2"
      ],
      "metadata": {
        "id": "bTCKMzi3X06M"
      }
    },
    {
      "cell_type": "code",
      "source": [],
      "metadata": {
        "id": "Whp1d163X2IV"
      },
      "execution_count": null,
      "outputs": []
    },
    {
      "cell_type": "markdown",
      "source": [
        "## Ejercicio No. 3"
      ],
      "metadata": {
        "id": "nbHpZBgiXvjx"
      }
    },
    {
      "cell_type": "code",
      "execution_count": null,
      "metadata": {
        "id": "IcqzdB2H-0y8"
      },
      "outputs": [],
      "source": []
    },
    {
      "cell_type": "markdown",
      "source": [
        "## Ejercicio No. 4"
      ],
      "metadata": {
        "id": "HI93MWixX20y"
      }
    },
    {
      "cell_type": "code",
      "source": [],
      "metadata": {
        "id": "hDlR1cJVX3km"
      },
      "execution_count": null,
      "outputs": []
    },
    {
      "cell_type": "markdown",
      "source": [
        "## Ejercicio No. 5"
      ],
      "metadata": {
        "id": "WBTxnNgFX4El"
      }
    },
    {
      "cell_type": "code",
      "source": [],
      "metadata": {
        "id": "NboHbLGaX46s"
      },
      "execution_count": null,
      "outputs": []
    },
    {
      "cell_type": "markdown",
      "source": [
        "## Ejercicio No. 6"
      ],
      "metadata": {
        "id": "xJAvt6U3X761"
      }
    },
    {
      "cell_type": "code",
      "source": [],
      "metadata": {
        "id": "xxBC_M9tX9AY"
      },
      "execution_count": null,
      "outputs": []
    }
  ]
}