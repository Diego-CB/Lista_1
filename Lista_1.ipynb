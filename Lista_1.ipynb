{
  "nbformat": 4,
  "nbformat_minor": 0,
  "metadata": {
    "colab": {
      "provenance": [],
      "include_colab_link": true
    },
    "kernelspec": {
      "name": "python3",
      "display_name": "Python 3"
    },
    "language_info": {
      "name": "python"
    }
  },
  "cells": [
    {
      "cell_type": "markdown",
      "metadata": {
        "id": "view-in-github",
        "colab_type": "text"
      },
      "source": [
        "<a href=\"https://colab.research.google.com/github/Diego-CB/Lista_1/blob/main/Lista_1.ipynb\" target=\"_parent\"><img src=\"https://colab.research.google.com/assets/colab-badge.svg\" alt=\"Open In Colab\"/></a>"
      ]
    },
    {
      "cell_type": "markdown",
      "source": [
        "# Laboratorio No.1\n",
        "- Diego Cordova 20212\n",
        "- Paola de León 20361\n",
        "- Gabriela Contreras 20213"
      ],
      "metadata": {
        "id": "UOHeF0-pzbcf"
      }
    },
    {
      "cell_type": "markdown",
      "source": [
        "### EJERCICIO NO.1"
      ],
      "metadata": {
        "id": "Bo9MXC5RXqP7"
      }
    },
    {
      "cell_type": "markdown",
      "source": [
        "**OpenCV**\n",
        "- *Lectura de imagenes*\n",
        "```\n",
        "<!-- args: image file -->\n",
        "image = cv2.imread(\"image_path.jpg\")\n",
        "```\n",
        "\n",
        "- *Convertir img a array*\n",
        "  - Abrir la imagen con cv2.imred retorna la imagen en un array de Numpy, cada valor del array corresponde a un pixel de la imagen.\n",
        "\n",
        "- *Convertir de array a img*\n",
        "```\n",
        "bgr_img = cv2.cvtColor(array_imagen, cv2.COLOR_BGR2RGB)\n",
        "```\n",
        "\n",
        "- *Guardar imagenes a disco duro*\n",
        "```\n",
        " <!-- args: img , file path  -->\n",
        " cv2.imwrite(file_path, img)\n",
        "```\n",
        "\n",
        "- *Almacenamiento de imagenes en memoria*\n",
        "  -  las imágenes son matrices NumPy multidimensionales\n",
        "\n",
        "\n",
        "\n",
        "**PIL**\n",
        "- *Lectura de imagenes*\n",
        "```\n",
        "<!-- args: image path -->\n",
        "image = Image.open(\"image.jpg\")\n",
        "```\n",
        "\n",
        "- *Convertir img a array*\n",
        "```\n",
        "<!-- args: image file -->\n",
        "numpy_array = np.array(img)\n",
        "```\n",
        "\n",
        "- *Convertir de array a img*\n",
        "```\n",
        "<!-- args: numpy_array -->\n",
        "m = Image.fromarray(array)\n",
        "```\n",
        "\n",
        "- Almacenamiento de imagenes en memoria\n",
        "  - las imagenes se pueden convertir a un Numpy array decuardo a las necesides del usuario\n",
        "\n",
        "- *Guardar imagenes a disco duro*\n",
        "```\n",
        "<!-- args: Nombre y formato de salida -->\n",
        " new_image.save(\"image_1.jpg\")\n",
        "```\n",
        "\n",
        "\n",
        "\n",
        "\n",
        "\n",
        "\n",
        "**Matplotlib**\n",
        "- *Guardar imagenes a disco duro*\n",
        "```\n",
        "<!-- args: Nombre y formato de salida -->\n",
        "plt.savefig(\"output.jpg\")\n",
        "```\n",
        "\n"
      ],
      "metadata": {
        "id": "X39bb3rvzx82"
      }
    },
    {
      "cell_type": "markdown",
      "source": [
        "## Ejercicio No. 2"
      ],
      "metadata": {
        "id": "bTCKMzi3X06M"
      }
    },
    {
      "cell_type": "code",
      "source": [],
      "metadata": {
        "id": "Whp1d163X2IV"
      },
      "execution_count": null,
      "outputs": []
    },
    {
      "cell_type": "markdown",
      "source": [
        "## Ejercicio No. 3"
      ],
      "metadata": {
        "id": "nbHpZBgiXvjx"
      }
    },
    {
      "cell_type": "code",
      "source": [
        "! pip install opencv-python\n",
        "! pip install numpy\n",
        "! pip install matplotlib"
      ],
      "metadata": {
        "id": "8MVYferp-QCs",
        "outputId": "79172aec-5bde-4991-e35d-fff55c5b0f26",
        "colab": {
          "base_uri": "https://localhost:8080/"
        }
      },
      "execution_count": 2,
      "outputs": [
        {
          "output_type": "stream",
          "name": "stdout",
          "text": [
            "Requirement already satisfied: opencv-python in /usr/local/lib/python3.10/dist-packages (4.8.0.76)\n",
            "Requirement already satisfied: numpy>=1.21.2 in /usr/local/lib/python3.10/dist-packages (from opencv-python) (1.23.5)\n",
            "Requirement already satisfied: numpy in /usr/local/lib/python3.10/dist-packages (1.23.5)\n",
            "Requirement already satisfied: matplotlib in /usr/local/lib/python3.10/dist-packages (3.7.1)\n",
            "Requirement already satisfied: contourpy>=1.0.1 in /usr/local/lib/python3.10/dist-packages (from matplotlib) (1.2.0)\n",
            "Requirement already satisfied: cycler>=0.10 in /usr/local/lib/python3.10/dist-packages (from matplotlib) (0.12.1)\n",
            "Requirement already satisfied: fonttools>=4.22.0 in /usr/local/lib/python3.10/dist-packages (from matplotlib) (4.47.2)\n",
            "Requirement already satisfied: kiwisolver>=1.0.1 in /usr/local/lib/python3.10/dist-packages (from matplotlib) (1.4.5)\n",
            "Requirement already satisfied: numpy>=1.20 in /usr/local/lib/python3.10/dist-packages (from matplotlib) (1.23.5)\n",
            "Requirement already satisfied: packaging>=20.0 in /usr/local/lib/python3.10/dist-packages (from matplotlib) (23.2)\n",
            "Requirement already satisfied: pillow>=6.2.0 in /usr/local/lib/python3.10/dist-packages (from matplotlib) (9.4.0)\n",
            "Requirement already satisfied: pyparsing>=2.3.1 in /usr/local/lib/python3.10/dist-packages (from matplotlib) (3.1.1)\n",
            "Requirement already satisfied: python-dateutil>=2.7 in /usr/local/lib/python3.10/dist-packages (from matplotlib) (2.8.2)\n",
            "Requirement already satisfied: six>=1.5 in /usr/local/lib/python3.10/dist-packages (from python-dateutil>=2.7->matplotlib) (1.16.0)\n"
          ]
        }
      ]
    },
    {
      "cell_type": "code",
      "execution_count": 24,
      "metadata": {
        "id": "IcqzdB2H-0y8"
      },
      "outputs": [],
      "source": [
        "import cv2\n",
        "import numpy as np\n",
        "import matplotlib.pyplot as plt\n",
        "\n",
        "# Lectura de la imagen\n",
        "img = cv2.imread(\"img.jpg\", cv2.IMREAD_GRAYSCALE)\n",
        "# plt.imshow(img)\n",
        "\n",
        "# Histograma sin equalizar\n",
        "img = cv2.equalizeHist(img)\n",
        "plt.show()\n"
      ]
    },
    {
      "cell_type": "code",
      "source": [],
      "metadata": {
        "id": "8DQmtaSSCtgd"
      },
      "execution_count": null,
      "outputs": []
    },
    {
      "cell_type": "markdown",
      "source": [
        "## Ejercicio No. 4"
      ],
      "metadata": {
        "id": "HI93MWixX20y"
      }
    },
    {
      "cell_type": "code",
      "source": [],
      "metadata": {
        "id": "hDlR1cJVX3km"
      },
      "execution_count": null,
      "outputs": []
    },
    {
      "cell_type": "markdown",
      "source": [
        "## Ejercicio No. 5"
      ],
      "metadata": {
        "id": "WBTxnNgFX4El"
      }
    },
    {
      "cell_type": "code",
      "source": [],
      "metadata": {
        "id": "NboHbLGaX46s"
      },
      "execution_count": null,
      "outputs": []
    },
    {
      "cell_type": "markdown",
      "source": [
        "## Ejercicio No. 6"
      ],
      "metadata": {
        "id": "xJAvt6U3X761"
      }
    },
    {
      "cell_type": "code",
      "source": [],
      "metadata": {
        "id": "xxBC_M9tX9AY"
      },
      "execution_count": null,
      "outputs": []
    }
  ]
}